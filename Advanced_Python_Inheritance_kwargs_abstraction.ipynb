{
 "cells": [
  {
   "cell_type": "code",
   "execution_count": null,
   "id": "2972d05c",
   "metadata": {},
   "outputs": [],
   "source": [
    "name : str = \"Swaroop\"\n",
    "print (name)\n",
    "assert name != \"Swaroop\", f\"name cannot be {name}\""
   ]
  },
  {
   "cell_type": "code",
   "execution_count": 126,
   "id": "2ab68c37",
   "metadata": {},
   "outputs": [
    {
     "name": "stdout",
     "output_type": "stream",
     "text": [
      "number 100\n",
      "****************************************************************************************************\n",
      " The name of this file is __main__ \n",
      "****************************************************************************************************\n"
     ]
    }
   ],
   "source": [
    "from abc import abstractmethod\n",
    "\n",
    "class log():\n",
    "    def __init__(self, **kwargs):\n",
    "        for key,value in kwargs.items():\n",
    "            print (key,value)\n",
    "            setattr(self,key,value)\n",
    "        self._printname(self.number)\n",
    "    \n",
    "    @abstractmethod\n",
    "    def _printname(self, no):\n",
    "        \"\"\"This is a dummy\"\"\"\n",
    "    \n",
    "class top(log):\n",
    "    def __init__(self, **kwargs):\n",
    "        self.name = __name__\n",
    "        super(top, self).__init__(**kwargs)\n",
    "    \n",
    "    def _printname(self, number=30):\n",
    "        name = self.name\n",
    "        print(\"*\"*number+f\"\\n The name of this file is {name} \\n\"+\"*\"*number)\n",
    "        return 1\n",
    "    \n",
    "object1 = top(number=100)"
   ]
  },
  {
   "cell_type": "code",
   "execution_count": null,
   "id": "3175357b",
   "metadata": {},
   "outputs": [],
   "source": []
  }
 ],
 "metadata": {
  "kernelspec": {
   "display_name": "Python 3 (ipykernel)",
   "language": "python",
   "name": "python3"
  },
  "language_info": {
   "codemirror_mode": {
    "name": "ipython",
    "version": 3
   },
   "file_extension": ".py",
   "mimetype": "text/x-python",
   "name": "python",
   "nbconvert_exporter": "python",
   "pygments_lexer": "ipython3",
   "version": "3.10.6"
  }
 },
 "nbformat": 4,
 "nbformat_minor": 5
}
