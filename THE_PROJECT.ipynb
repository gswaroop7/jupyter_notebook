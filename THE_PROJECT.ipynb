{
 "cells": [
  {
   "cell_type": "code",
   "execution_count": null,
   "id": "a5410d44",
   "metadata": {},
   "outputs": [],
   "source": [
    "from pyspark.sql import SparkSession\n",
    "from pyspark.sql import functions as f\n",
    "\n",
    "spark = SparkSession.builder.appName(\"MY_SPENDINGS\").getOrCreate()"
   ]
  },
  {
   "cell_type": "code",
   "execution_count": null,
   "id": "c702e28e",
   "metadata": {},
   "outputs": [],
   "source": [
    "df=spark.read.csv(\"statement.csv\",header=True,inferSchema=True).fillna(0)\n",
    "\n",
    "#change Date from string to_date, rename column names with special charaters\n",
    "#Note: MM is capital not mm(minutes)\n",
    "df=df.select(f.to_date(df.Date,'dd/MM/yy').alias(\"Date\"),\"Narration\",\\\n",
    "             f.col(\"`Withdrawal Amt.`\").alias(\"Withdrawal\"),\\\n",
    "             f.col(\"`Chq./Ref.No.`\").alias(\"Ref_Number\"),\\\n",
    "             f.col(\"`Deposit Amt.`\").alias(\"Deposit\"),\"Closing Balance\")"
   ]
  },
  {
   "cell_type": "code",
   "execution_count": null,
   "id": "db97b333",
   "metadata": {},
   "outputs": [],
   "source": [
    "#Use Case : Removal of specific data\n",
    "df=df.filter((df.Deposit != 30000) & (df.Withdrawal != 30000) & (df.Deposit != 144807))\n",
    "\n",
    "    #Interesting that only &(and) and |(or) works here for removing two different ... \\\n",
    "    #... entires, where one have 30000 in Withdrawal and a different one have 30000 in Deposit"
   ]
  },
  {
   "cell_type": "code",
   "execution_count": null,
   "id": "0ba001a8",
   "metadata": {},
   "outputs": [],
   "source": [
    "import calendar\n",
    "from pyspark.sql.types import IntegerType\n",
    "\n",
    "#Use Case : Monthly saving vs spending\n",
    "\n",
    "#calendar.monthcalendar takes year and month as input. [-1] to reverse month lists and [0] pick last one\n",
    "last_day = f.udf(lambda x,y: max(calendar.monthcalendar(int(x),int(y))[-1:][0][:5]) )\n",
    "\n",
    "#dfs = dfs.withColumn(\"Last_Workingday\",last_day((f.split(f.col(\"Date\"),\"-\")[0]),\\\n",
    "#                                                (f.split(f.col(\"Date\"),\"-\")[1])))\n",
    "\n",
    "df = df.withColumn(\"Last_Workingday\",last_day((f.date_format(df.Date,'yyyy')),\\\n",
    "                                                 (f.date_format(df.Date,'MM'))))\n",
    "\n",
    "#Aug 31,2022 was an holiday. So check for a day less than that in general\n",
    "#dfs = dfs.filter(f.split(f.col(\"Date\"),\"-\")[2] >= ( (f.col(\"Last_Workingday\")) - (f.lit(1)) ))\n",
    "\n",
    "df = df.withColumn(\"year_month\",\\\n",
    "                 f.when(f.date_format(df.Date,'dd') != df.Last_Workingday,f.date_format(df.Date,\"yyyy-MM\")).\\\n",
    "                 otherwise( f.date_format(f.date_add(df.Date,5),\"yyyy-MM\") ))\n",
    "df.show(100)"
   ]
  },
  {
   "cell_type": "code",
   "execution_count": null,
   "id": "783fce2b",
   "metadata": {},
   "outputs": [],
   "source": [
    "#Use Case : Monthly saving vs spending\n",
    "\n",
    "#remove unwanted columns\n",
    "df1 = df.select(\"Date\",\"Narration\",\"Deposit\")\n",
    "\n",
    "#Get Salary credited date, filter SALARY\n",
    "dfs = df1.filter(df1.Narration.contains(\"SALARY\"))\n",
    "\n",
    "#make sure the amount was deposited on the last weekday/last working day of the month. Using UDF\n",
    "#calendar.monthcalendar takes year and month as input. [-1] to reverse month lists and [0] pick last one\n",
    "last_day = f.udf(lambda x,y: max(calendar.monthcalendar(int(x),int(y))[-1:][0][:5]) )\n",
    "\n",
    "#dfs = dfs.withColumn(\"Last_Workingday\",last_day((f.split(f.col(\"Date\"),\"-\")[0]),\\\n",
    "#                                                (f.split(f.col(\"Date\"),\"-\")[1])))\n",
    "\n",
    "dfs = dfs.withColumn(\"Last_Workingday\",last_day((f.date_format(df.Date,'yyyy')),\\\n",
    "                                                 (f.date_format(df.Date,'MM'))))\n",
    "\n",
    "#Aug 31,2022 was an holiday. So check for a day less than that in general\n",
    "dfs = dfs.filter(f.split(f.col(\"Date\"),\"-\")[2] >= ( (f.col(\"Last_Workingday\")) - (f.lit(1)) ))\n",
    "#dfs.show()"
   ]
  },
  {
   "cell_type": "code",
   "execution_count": null,
   "id": "145fb2c5",
   "metadata": {},
   "outputs": [],
   "source": [
    "dfs.select(\"*\",(f.split(f.col(\"Date\"),\"-\")).alias(\"New_column\")). \\\n",
    "        select(\"*\",f.col(\"New_column\")[0].alias(\"year\"),f.col(\"New_column\")[1].alias(\"month\")).\\\n",
    "        drop(\"New_Column\")\n",
    "\n",
    "dfs.select(\"*\",last_day((f.split(f.col(\"Date\"),\"-\")[0]),(f.split(f.col(\"Date\"),\"-\")[1])).\\\n",
    "                                                                  alias(\"New_column\")).show()"
   ]
  },
  {
   "cell_type": "code",
   "execution_count": null,
   "id": "836166b9",
   "metadata": {},
   "outputs": [],
   "source": [
    "dfS.withColumn(\"last_day\",f.udf(lambda x: max(\n",
    "                                    calendar.monthcalendar(dfS[\"Date\"].year(),dfS[\"Date\"].month())[-1:][0][:5]),\n",
    "                                IntegerType())\n",
    "              ).show()"
   ]
  },
  {
   "cell_type": "code",
   "execution_count": null,
   "id": "11b88fdc",
   "metadata": {},
   "outputs": [],
   "source": [
    "#dfS.filter(f.split(dfS.Date,'-').getItem(2) == \\\n",
    "#               last_working_day(f.split(dfS.Date,'-').getItem(0),f.split(dfS.Date,'-').getItem(1)))"
   ]
  },
  {
   "cell_type": "code",
   "execution_count": null,
   "id": "81e30ff8",
   "metadata": {},
   "outputs": [],
   "source": [
    "dfS.withColumn(\"last_day\",f.udf(lambda x: max( \n",
    "                                              calendar.monthcalendar(x.split(\"-\")[0], x.split(\"-\")[1]) \n",
    "                                              [-1:][0][:5] \n",
    "                                             ) \n",
    "                               ) (df.Date)\n",
    "              ).show()"
   ]
  }
 ],
 "metadata": {
  "kernelspec": {
   "display_name": "Python 3 (ipykernel)",
   "language": "python",
   "name": "python3"
  },
  "language_info": {
   "codemirror_mode": {
    "name": "ipython",
    "version": 3
   },
   "file_extension": ".py",
   "mimetype": "text/x-python",
   "name": "python",
   "nbconvert_exporter": "python",
   "pygments_lexer": "ipython3",
   "version": "3.10.6"
  }
 },
 "nbformat": 4,
 "nbformat_minor": 5
}
