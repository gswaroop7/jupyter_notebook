{
 "cells": [
  {
   "cell_type": "code",
   "execution_count": null,
   "id": "65cec35a",
   "metadata": {},
   "outputs": [],
   "source": [
    "import os\n",
    "import sys\n",
    "import re\n",
    "os.getcwd()"
   ]
  },
  {
   "cell_type": "code",
   "execution_count": null,
   "id": "24927580",
   "metadata": {},
   "outputs": [],
   "source": [
    "userId=os.getgid()"
   ]
  },
  {
   "cell_type": "code",
   "execution_count": null,
   "id": "0f6b733b",
   "metadata": {},
   "outputs": [],
   "source": [
    "a=sys.path"
   ]
  },
  {
   "cell_type": "code",
   "execution_count": null,
   "id": "1c4b011d",
   "metadata": {},
   "outputs": [],
   "source": [
    "print(f\"The current userid is {userId},{sys.path}\")"
   ]
  },
  {
   "cell_type": "code",
   "execution_count": null,
   "id": "32a71e85",
   "metadata": {},
   "outputs": [],
   "source": [
    "#list comprehension\n",
    "[x for x in a if not re.search(\"swaroop\",x)]"
   ]
  },
  {
   "cell_type": "code",
   "execution_count": null,
   "id": "bf1ad61d",
   "metadata": {},
   "outputs": [],
   "source": [
    "#General implementation of partial function\n",
    "\n",
    "def algebra(a,b,c):\n",
    "    print (f\"here are the vlaues of {a,b,c}\")\n",
    "    return 10*(a**2)+2*(b)+c   #10x^2+2y+z experssion\n",
    "\n",
    "def findvalue(a):\n",
    "    return algebra(a,2,3)\n",
    "\n",
    "findvalue(2)"
   ]
  },
  {
   "cell_type": "code",
   "execution_count": null,
   "id": "a691cdda",
   "metadata": {},
   "outputs": [],
   "source": [
    "#inbuilt package to reduce the code\n",
    "from functools import partial\n",
    "\n",
    "def algebra(a,b,c):\n",
    "    print (f\"here are the vlaues of {a,b,c}\")\n",
    "    return 10*(a**2)+2*(b)+c   #10x^2+2y+z experssion\n",
    "\n",
    "findvalue = partial(algebra,b=2,c=3)\n",
    "\n",
    "findvalue(2)"
   ]
  },
  {
   "cell_type": "code",
   "execution_count": null,
   "id": "cf6bbab2",
   "metadata": {},
   "outputs": [],
   "source": []
  }
 ],
 "metadata": {
  "kernelspec": {
   "display_name": "Python 3 (ipykernel)",
   "language": "python",
   "name": "python3"
  },
  "language_info": {
   "codemirror_mode": {
    "name": "ipython",
    "version": 3
   },
   "file_extension": ".py",
   "mimetype": "text/x-python",
   "name": "python",
   "nbconvert_exporter": "python",
   "pygments_lexer": "ipython3",
   "version": "3.10.6"
  }
 },
 "nbformat": 4,
 "nbformat_minor": 5
}
