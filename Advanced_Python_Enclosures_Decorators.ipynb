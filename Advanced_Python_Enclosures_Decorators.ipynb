{
 "cells": [
  {
   "cell_type": "code",
   "execution_count": null,
   "id": "e9468d31",
   "metadata": {},
   "outputs": [],
   "source": [
    "A=[1,23,4,35] \n",
    "B=enumerate(A)\n",
    "for x in B:\n",
    "    print (x)"
   ]
  },
  {
   "cell_type": "code",
   "execution_count": 1,
   "id": "2c9a67ac",
   "metadata": {},
   "outputs": [],
   "source": [
    "import sys"
   ]
  },
  {
   "cell_type": "code",
   "execution_count": 2,
   "id": "27ca9c79",
   "metadata": {},
   "outputs": [
    {
     "data": {
      "text/plain": [
       "['/home/swaroop/Jupyter_Notebok/jupyter_notebook',\n",
       " '/usr/lib/python310.zip',\n",
       " '/usr/lib/python3.10',\n",
       " '/usr/lib/python3.10/lib-dynload',\n",
       " '',\n",
       " '/home/swaroop/.local/lib/python3.10/site-packages',\n",
       " '/usr/local/lib/python3.10/dist-packages',\n",
       " '/usr/lib/python3/dist-packages']"
      ]
     },
     "execution_count": 2,
     "metadata": {},
     "output_type": "execute_result"
    }
   ],
   "source": [
    "sys.path"
   ]
  },
  {
   "cell_type": "code",
   "execution_count": 12,
   "id": "3f64fa9f",
   "metadata": {},
   "outputs": [
    {
     "name": "stdout",
     "output_type": "stream",
     "text": [
      "My Name is SlimShady, Iam the Real Slim Shady\n"
     ]
    }
   ],
   "source": [
    "def good_print(text):\n",
    "    def beautiful_print(song):\n",
    "        print(f\"{text}{song}\")\n",
    "    return beautiful_print\n",
    "\n",
    "func = good_print(\"My Name is SlimShady\")\n",
    "func(\", Iam the Real Slim Shady\")"
   ]
  },
  {
   "cell_type": "code",
   "execution_count": 24,
   "id": "adaa5679",
   "metadata": {},
   "outputs": [
    {
     "name": "stdout",
     "output_type": "stream",
     "text": [
      "**************************************************\n",
      "Something to print now\n",
      "**************************************************\n"
     ]
    }
   ],
   "source": [
    "def pretty_print(func):\n",
    "    def yes_print(message,a):\n",
    "        print(\"*\" * a)\n",
    "        func(message)\n",
    "        print(\"*\" * a)\n",
    "    return yes_print\n",
    "    \n",
    "@pretty_print\n",
    "def print_my_message(msg):\n",
    "    print(msg)\n",
    "\n",
    "print_my_message(\"Something to print now\",50)  #press shift+tab to the definition of print_my_message"
   ]
  },
  {
   "cell_type": "code",
   "execution_count": null,
   "id": "d2ffbdc0",
   "metadata": {},
   "outputs": [],
   "source": []
  }
 ],
 "metadata": {
  "kernelspec": {
   "display_name": "Python 3 (ipykernel)",
   "language": "python",
   "name": "python3"
  },
  "language_info": {
   "codemirror_mode": {
    "name": "ipython",
    "version": 3
   },
   "file_extension": ".py",
   "mimetype": "text/x-python",
   "name": "python",
   "nbconvert_exporter": "python",
   "pygments_lexer": "ipython3",
   "version": "3.10.6"
  }
 },
 "nbformat": 4,
 "nbformat_minor": 5
}
