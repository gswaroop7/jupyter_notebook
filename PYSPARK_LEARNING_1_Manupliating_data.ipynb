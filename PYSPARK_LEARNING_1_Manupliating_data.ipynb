{
 "cells": [
  {
   "cell_type": "code",
   "execution_count": null,
   "id": "d8e6cc28",
   "metadata": {},
   "outputs": [],
   "source": [
    "from pyspark.sql import SparkSession\n",
    "from pyspark.sql import functions as f\n",
    "from pyspark import Row\n",
    "from pyspark.ml.feature import Imputer"
   ]
  },
  {
   "cell_type": "code",
   "execution_count": null,
   "id": "5b445d63",
   "metadata": {},
   "outputs": [],
   "source": [
    "spark = SparkSession.builder.appName(\"TEST\").getOrCreate()"
   ]
  },
  {
   "cell_type": "code",
   "execution_count": null,
   "id": "75e1841c",
   "metadata": {},
   "outputs": [],
   "source": [
    "df=spark.read.csv(\"test2.csv\",inferSchema=True,header=True)"
   ]
  },
  {
   "cell_type": "code",
   "execution_count": null,
   "id": "f7ee9652",
   "metadata": {},
   "outputs": [],
   "source": [
    "df.show()\n",
    "df.collect()\n",
    "df.take(5)\n",
    "df.na.drop().show()\n",
    "df.na.drop()"
   ]
  },
  {
   "cell_type": "code",
   "execution_count": null,
   "id": "264d5739",
   "metadata": {},
   "outputs": [],
   "source": [
    "df.na.drop(how='any',thresh=2,subset=[\"Name\",\"Experience\"]).show()"
   ]
  },
  {
   "cell_type": "code",
   "execution_count": null,
   "id": "722a4571",
   "metadata": {},
   "outputs": [],
   "source": [
    "df.na.fill(\"Empty\",[\"Name\",\"Experience\"]).show()"
   ]
  },
  {
   "cell_type": "code",
   "execution_count": null,
   "id": "985611cc",
   "metadata": {},
   "outputs": [],
   "source": [
    "#IMPUTER function, replacing null/other values\n",
    "modified_col=[f\"{c}_corrected\" for c in df.columns[1:4]]\n",
    "imputer=Imputer(strategy= 'mean',inputCols=df.columns[1:4],outputCols=modified_col)\n",
    "imputer.fit(df).transform(df).show()\n",
    "\n",
    "#Changing the original df\n",
    "imputer=Imputer(strategy= 'mean',inputCols=df.columns[1:4],outputCols=df.columns[1:4])\n",
    "df=imputer.fit(df).transform(df)\n",
    "df.show()"
   ]
  },
  {
   "cell_type": "code",
   "execution_count": null,
   "id": "217699ad",
   "metadata": {},
   "outputs": [],
   "source": [
    "#filtering #select that we did earlier(withColumn) has different sytax to this select, here we give list\n",
    "df.filter((df.age < 30) & (df.Salary < 20000)).select(['Name','age']).show()  \n",
    "df.where((df.age < 30) & (df.Salary < 20000)).select(['Name','age']).show()\n",
    "\n",
    "#you can use ~ to negate entire condition"
   ]
  },
  {
   "cell_type": "code",
   "execution_count": null,
   "id": "b8fa8df7",
   "metadata": {},
   "outputs": [],
   "source": []
  }
 ],
 "metadata": {
  "kernelspec": {
   "display_name": "Python 3 (ipykernel)",
   "language": "python",
   "name": "python3"
  },
  "language_info": {
   "codemirror_mode": {
    "name": "ipython",
    "version": 3
   },
   "file_extension": ".py",
   "mimetype": "text/x-python",
   "name": "python",
   "nbconvert_exporter": "python",
   "pygments_lexer": "ipython3",
   "version": "3.10.6"
  }
 },
 "nbformat": 4,
 "nbformat_minor": 5
}
