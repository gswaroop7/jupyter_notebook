{
 "cells": [
  {
   "cell_type": "code",
   "execution_count": null,
   "id": "f6b9e1b2",
   "metadata": {},
   "outputs": [],
   "source": [
    "from pyspark.sql import SparkSession as s"
   ]
  },
  {
   "cell_type": "code",
   "execution_count": null,
   "id": "5a6fb1a0",
   "metadata": {},
   "outputs": [],
   "source": [
    "#mode=failfast\n",
    "#.format\n",
    "#.location"
   ]
  },
  {
   "cell_type": "code",
   "execution_count": null,
   "id": "40393455",
   "metadata": {},
   "outputs": [],
   "source": [
    "#create a table from dataframe"
   ]
  },
  {
   "cell_type": "code",
   "execution_count": null,
   "id": "aa187f06",
   "metadata": {},
   "outputs": [],
   "source": [
    "spark = s.builder.appName(\"spending_patterns\").master(\"local\").getOrCreate()"
   ]
  },
  {
   "cell_type": "code",
   "execution_count": null,
   "id": "9bd2ecbd",
   "metadata": {},
   "outputs": [],
   "source": [
    "df = spark.read.csv(\"/home/swaroop/statement.csv\",inferSchema=True,header=True)"
   ]
  },
  {
   "cell_type": "code",
   "execution_count": null,
   "id": "67c0cb47",
   "metadata": {},
   "outputs": [],
   "source": [
    "df1=df.na.fill(0)\n",
    "df1.show(3)"
   ]
  },
  {
   "cell_type": "code",
   "execution_count": 14,
   "id": "05107b03",
   "metadata": {},
   "outputs": [
    {
     "name": "stdout",
     "output_type": "stream",
     "text": [
      "root\n",
      " |-- Date: string (nullable = true)\n",
      " |-- Narration: string (nullable = true)\n",
      " |-- Chq./Ref.No.: string (nullable = true)\n",
      " |-- Value Dt: string (nullable = true)\n",
      " |-- Withdrawal Amt.: double (nullable = false)\n",
      " |-- Deposit Amt.: double (nullable = false)\n",
      " |-- Closing Balance: double (nullable = false)\n",
      "\n"
     ]
    }
   ],
   "source": [
    "df2=df1.select(*,)"
   ]
  },
  {
   "cell_type": "code",
   "execution_count": null,
   "id": "7ced5548",
   "metadata": {},
   "outputs": [],
   "source": []
  }
 ],
 "metadata": {
  "kernelspec": {
   "display_name": "Python 3 (ipykernel)",
   "language": "python",
   "name": "python3"
  },
  "language_info": {
   "codemirror_mode": {
    "name": "ipython",
    "version": 3
   },
   "file_extension": ".py",
   "mimetype": "text/x-python",
   "name": "python",
   "nbconvert_exporter": "python",
   "pygments_lexer": "ipython3",
   "version": "3.10.6"
  }
 },
 "nbformat": 4,
 "nbformat_minor": 5
}
