{
 "cells": [
  {
   "cell_type": "code",
   "execution_count": null,
   "id": "bff7237b",
   "metadata": {},
   "outputs": [],
   "source": [
    "from pyspark import SparkContext"
   ]
  },
  {
   "cell_type": "code",
   "execution_count": null,
   "id": "446ba8ff",
   "metadata": {},
   "outputs": [],
   "source": [
    "sc = SparkContext(\"local\",\"TEST\")"
   ]
  },
  {
   "cell_type": "code",
   "execution_count": null,
   "id": "dc7a6db0",
   "metadata": {},
   "outputs": [],
   "source": [
    "file=sc.textFile(\"test3.csv\")\n",
    "temp=file.filter(lambda x: x != \"\")\n",
    "first_line=file.first()\n",
    "file=temp.filter(lambda x: x != first_line)\n",
    "file.collect()"
   ]
  },
  {
   "cell_type": "code",
   "execution_count": 6,
   "id": "b3b6e76e",
   "metadata": {},
   "outputs": [
    {
     "data": {
      "text/plain": [
       "73000"
      ]
     },
     "execution_count": 6,
     "metadata": {},
     "output_type": "execute_result"
    }
   ],
   "source": [
    "rdd=file.map(lambda x: (x.split(\",\")[0],int(x.split(\",\")[2])))\n",
    "rdd.collect()\n",
    "\n",
    "from operator import add\n",
    "rdd.map(lambda x: (x[1])).reduce(add)"
   ]
  },
  {
   "cell_type": "code",
   "execution_count": null,
   "id": "ad2e223b",
   "metadata": {},
   "outputs": [],
   "source": [
    "rdd.take(5)\n",
    "rdd.takeOrdered(5)\n",
    "rdd.count()\n",
    "rdd.countByValue()\n",
    "foreach\n",
    "foreachPartition\n",
    "sum,min,max,variance,stdev,mean"
   ]
  },
  {
   "cell_type": "code",
   "execution_count": 15,
   "id": "336a14d9",
   "metadata": {},
   "outputs": [
    {
     "data": {
      "text/plain": [
       "'(1) PythonRDD[7] at collect at /tmp/ipykernel_3973/879686613.py:2 []\\n |  test3.csv MapPartitionsRDD[1] at textFile at NativeMethodAccessorImpl.java:0 []\\n |  test3.csv HadoopRDD[0] at textFile at NativeMethodAccessorImpl.java:0 []'"
      ]
     },
     "execution_count": 15,
     "metadata": {},
     "output_type": "execute_result"
    }
   ],
   "source": [
    "rdd.toDebugString().decode() #where it is stored etc..,"
   ]
  },
  {
   "cell_type": "code",
   "execution_count": null,
   "id": "bc570866",
   "metadata": {},
   "outputs": [],
   "source": [
    "#paired rdds\n",
    "#make it as key value pairs(use map or anything ) and then apply transformation functions like mapwithvalues...\n",
    "#cogroup, reducebykeys ,join etc...,"
   ]
  }
 ],
 "metadata": {
  "kernelspec": {
   "display_name": "Python 3 (ipykernel)",
   "language": "python",
   "name": "python3"
  },
  "language_info": {
   "codemirror_mode": {
    "name": "ipython",
    "version": 3
   },
   "file_extension": ".py",
   "mimetype": "text/x-python",
   "name": "python",
   "nbconvert_exporter": "python",
   "pygments_lexer": "ipython3",
   "version": "3.10.6"
  }
 },
 "nbformat": 4,
 "nbformat_minor": 5
}
