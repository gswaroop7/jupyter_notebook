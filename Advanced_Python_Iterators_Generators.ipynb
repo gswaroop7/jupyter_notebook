{
 "cells": [
  {
   "cell_type": "code",
   "execution_count": null,
   "id": "42327c49",
   "metadata": {},
   "outputs": [],
   "source": [
    "#dir helps you to check implemented functions\n",
    "dir(list)\n",
    "a=[1,23,34]"
   ]
  },
  {
   "cell_type": "code",
   "execution_count": null,
   "id": "94effcba",
   "metadata": {},
   "outputs": [],
   "source": [
    "a.__add__(a)"
   ]
  },
  {
   "cell_type": "code",
   "execution_count": null,
   "id": "cc9705c1",
   "metadata": {},
   "outputs": [],
   "source": [
    "#iterators are used for large data sets so that...\n",
    "#we can use next to return only 1 element,and save memory \n",
    "d=a.__iter__()\n",
    "d.__next__()\n",
    "\n",
    "#or you can use the following way,both are same"
   ]
  },
  {
   "cell_type": "code",
   "execution_count": null,
   "id": "cbfafe1f",
   "metadata": {},
   "outputs": [],
   "source": [
    "#infinte data in finite memory\n",
    "#iterators are used with generators\n",
    "e=iter(a)\n",
    "next(e)"
   ]
  },
  {
   "cell_type": "code",
   "execution_count": null,
   "id": "65498022",
   "metadata": {},
   "outputs": [],
   "source": [
    "#how for loop internally works\n",
    "f=iter(a)\n",
    "while True:\n",
    "    try:\n",
    "        print(next(f))\n",
    "    except StopIteration:\n",
    "        print(\"Iteration has been stopped\")\n",
    "        break"
   ]
  },
  {
   "cell_type": "code",
   "execution_count": 107,
   "id": "abe6f9c3",
   "metadata": {},
   "outputs": [],
   "source": [
    "#Generator\n",
    "def fibanocii(max):\n",
    "    x,y = 0,1\n",
    "    for __ in range(max):            # you can also use while True: (but that will create infinte loop)\n",
    "        yield x                      #saves the values of x for next iteration\n",
    "        x,y = y,x+y\n",
    "        \n",
    "a=fibanocii(10)"
   ]
  },
  {
   "cell_type": "code",
   "execution_count": 108,
   "id": "ed92a698",
   "metadata": {},
   "outputs": [
    {
     "data": {
      "text/plain": [
       "87"
      ]
     },
     "execution_count": 108,
     "metadata": {},
     "output_type": "execute_result"
    }
   ],
   "source": [
    "a.__next__()\n",
    "#or\n",
    "next(a)                     ##once the loop(iteration) is completed you get StopIteration error\n",
    "\n",
    "sum(a)"
   ]
  }
 ],
 "metadata": {
  "kernelspec": {
   "display_name": "Python 3 (ipykernel)",
   "language": "python",
   "name": "python3"
  },
  "language_info": {
   "codemirror_mode": {
    "name": "ipython",
    "version": 3
   },
   "file_extension": ".py",
   "mimetype": "text/x-python",
   "name": "python",
   "nbconvert_exporter": "python",
   "pygments_lexer": "ipython3",
   "version": "3.10.6"
  }
 },
 "nbformat": 4,
 "nbformat_minor": 5
}
