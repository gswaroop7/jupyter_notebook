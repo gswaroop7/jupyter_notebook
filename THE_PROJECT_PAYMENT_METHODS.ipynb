{
 "cells": [
  {
   "cell_type": "code",
   "execution_count": null,
   "id": "a5410d44",
   "metadata": {},
   "outputs": [],
   "source": [
    "from pyspark.sql import SparkSession\n",
    "from pyspark.sql import functions as f\n",
    "\n",
    "spark = SparkSession.builder.appName(\"MY_PAYMENT_METHODS\").getOrCreate()"
   ]
  },
  {
   "cell_type": "code",
   "execution_count": null,
   "id": "c702e28e",
   "metadata": {},
   "outputs": [],
   "source": [
    "df=spark.read.csv(\"statement.csv\",header=True,inferSchema=True).fillna(0)\n",
    "\n",
    "#change Date from string to_date, rename column names with special charaters\n",
    "#Note: MM is capital not mm(minutes)\n",
    "df=df.select(f.to_date(df.Date,'dd/MM/yy').alias(\"Date\"),\"Narration\",\\\n",
    "             f.col(\"`Withdrawal Amt.`\").alias(\"Withdrawal\")\\\n",
    "            #,f.col(\"`Chq./Ref.No.`\").alias(\"Ref_Number\")\\\n",
    "            # ,f.col(\"`Deposit Amt.`\").alias(\"Deposit\")\\\n",
    "             #,\"Closing Balance\"\\\n",
    "            )"
   ]
  },
  {
   "cell_type": "code",
   "execution_count": null,
   "id": "db97b333",
   "metadata": {},
   "outputs": [],
   "source": [
    "#Use Case : Removal of specific data\n",
    "df = df.filter((df.Withdrawal != 30000) & (df.Withdrawal != 0.0))\n",
    "\n",
    "    #Interesting that only &(and) and |(or) works here for removing two different entries"
   ]
  },
  {
   "cell_type": "code",
   "execution_count": null,
   "id": "1c26d81b",
   "metadata": {},
   "outputs": [],
   "source": [
    "#Use Case: UPI vs POS VS ATW\n",
    "\n",
    "#First 3 letters of narration are Transaction types, add no of transactions(1) for each row\n",
    "df1 = df.select(\"*\",f.date_format(f.col(\"Date\"),'yyyy-MM').alias(\"year_month\")\\\n",
    "                     ,f.col(\"Narration\").substr(1,3).alias(\"Transaction_Type\")\\\n",
    "                        ,f.lit(1).alias(\"transaction_number\")\\\n",
    "               )\\\n",
    "        .drop(\"Narration\",\"Date\")\n",
    "\n",
    "#df1.show(1000)\n",
    "\n",
    "df2 = df1.withColumn(\"Transaction_type\",\\\n",
    "               f.when(f.col(\"Transaction_Type\").contains(\"ATW\"),\\\n",
    "                      f.regexp_replace(f.col(\"Transaction_Type\"),\"ATW\",\"NWD\"))\\\n",
    "               .when(f.col(\"Transaction_Type\").contains(\"EAW\"),\\\n",
    "                      f.regexp_replace(f.col(\"Transaction_Type\"),\"EAW\",\"NWD\"))\\\n",
    "                .otherwise(f.col(\"Transaction_Type\"))\n",
    "              )\n",
    "\n",
    "#get unique transaction types\n",
    "#df1.select(\"Transaction_type\").distinct().show()  #EAW,NWD,ATW(ATM)-INS(bank alerts)-IB-POS-UPI\n",
    "\n",
    "#Group no of transaction and amount\n",
    "transaction = df2.groupBy([f.col(\"year_month\"),f.col(\"Transaction_type\")]).sum()\n",
    "transaction = transaction.select(\"*\",f.round(f.col(\"sum(Withdrawal)\")).alias(\"Spent_money\")\\\n",
    "                                    ,f.col(\"sum(transaction_number)\").alias(\"No_of_transactions\")\\\n",
    "                                ).drop(f.col(\"sum(transaction_number)\"))\\\n",
    "                                 .drop(f.col(\"sum(Withdrawal)\"))\\\n",
    "                            .sort(\"year_month\")\n",
    "transaction.dtypes"
   ]
  },
  {
   "cell_type": "code",
   "execution_count": null,
   "id": "7a8abd47",
   "metadata": {},
   "outputs": [],
   "source": [
    "#convert pyspark DF to PandasDF(pdf) and then plot\n",
    "pdf = transaction.toPandas()\n",
    "\n",
    "import plotly                             #### You need to have pandas installed\n",
    "import plotly.express as px               #to create interactive charts\n",
    "import plotly.graph_objects as go\n",
    "\n",
    "px.bar(pdf,x=\"year_month\",y=pdf[\"No_of_transactions\"],barmode=\"group\",color=\"Transaction_type\",\\\n",
    "       title=\"No of Transaction for different mode of Payments\").show()\n",
    "\n",
    "px.bar(pdf,x=\"year_month\",y=pdf[\"Spent_money\"],barmode=\"group\",color=\"Transaction_type\",\\\n",
    "      title=\"Amount spent on different mode of Payments\").show()\n"
   ]
  },
  {
   "cell_type": "code",
   "execution_count": null,
   "id": "0640e40e",
   "metadata": {},
   "outputs": [],
   "source": []
  }
 ],
 "metadata": {
  "kernelspec": {
   "display_name": "Python 3 (ipykernel)",
   "language": "python",
   "name": "python3"
  },
  "language_info": {
   "codemirror_mode": {
    "name": "ipython",
    "version": 3
   },
   "file_extension": ".py",
   "mimetype": "text/x-python",
   "name": "python",
   "nbconvert_exporter": "python",
   "pygments_lexer": "ipython3",
   "version": "3.10.6"
  }
 },
 "nbformat": 4,
 "nbformat_minor": 5
}
