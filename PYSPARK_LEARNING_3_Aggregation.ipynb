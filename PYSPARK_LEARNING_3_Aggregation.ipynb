{
 "cells": [
  {
   "cell_type": "code",
   "execution_count": null,
   "id": "83b6453b",
   "metadata": {},
   "outputs": [],
   "source": [
    "from pyspark.sql import SparkSession\n",
    "from pyspark.sql import functions as f\n",
    "from pyspark import Row\n",
    "from pyspark.ml.feature import Imputer"
   ]
  },
  {
   "cell_type": "code",
   "execution_count": null,
   "id": "a2b7274c",
   "metadata": {},
   "outputs": [],
   "source": [
    "spark=SparkSession.builder.appName(\"TEST\").getOrCreate()"
   ]
  },
  {
   "cell_type": "code",
   "execution_count": null,
   "id": "4a24365d",
   "metadata": {},
   "outputs": [],
   "source": [
    "df=spark.read.csv(\"test3.csv\",inferSchema=True,header=True)"
   ]
  },
  {
   "cell_type": "code",
   "execution_count": null,
   "id": "ee3971d8",
   "metadata": {},
   "outputs": [],
   "source": [
    "df.show()"
   ]
  },
  {
   "cell_type": "code",
   "execution_count": null,
   "id": "166818d1",
   "metadata": {},
   "outputs": [],
   "source": [
    "df.groupBy(\"Departments\").sum(\"salary\").show()"
   ]
  },
  {
   "cell_type": "code",
   "execution_count": null,
   "id": "71a27d57",
   "metadata": {},
   "outputs": [],
   "source": [
    "#just playing around on multiple options on expr and different ways to groupby\n",
    "exp=[f.sum(c) for c in df.columns[1:3]]\n",
    "df.agg(*exp).show()\n",
    "\n",
    "group = [\"Departments\"]\n",
    "aggregate = [\"salary\"] \n",
    "funs = [f.mean, f.sum, f.max]\n",
    "\n",
    "exprs = [fu(f.col(c)) for fu in funs for c in aggregate]\n",
    "df.groupBy(*group).agg(*exprs).show()"
   ]
  },
  {
   "cell_type": "code",
   "execution_count": null,
   "id": "573c7afc",
   "metadata": {},
   "outputs": [],
   "source": []
  }
 ],
 "metadata": {
  "kernelspec": {
   "display_name": "Python 3 (ipykernel)",
   "language": "python",
   "name": "python3"
  },
  "language_info": {
   "codemirror_mode": {
    "name": "ipython",
    "version": 3
   },
   "file_extension": ".py",
   "mimetype": "text/x-python",
   "name": "python",
   "nbconvert_exporter": "python",
   "pygments_lexer": "ipython3",
   "version": "3.10.6"
  }
 },
 "nbformat": 4,
 "nbformat_minor": 5
}
