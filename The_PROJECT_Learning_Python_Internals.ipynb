{
 "cells": [
  {
   "cell_type": "code",
   "execution_count": null,
   "id": "70b7e463",
   "metadata": {},
   "outputs": [],
   "source": [
    "import __main__\n",
    "import os"
   ]
  },
  {
   "cell_type": "code",
   "execution_count": null,
   "id": "4ca22e76",
   "metadata": {},
   "outputs": [],
   "source": [
    "print(__main__)   #program takes this as the start of the code(__main__)\n",
    "str(__file__)     #Geneally gets the current path of this executing file, but juyter does not set it. "
   ]
  },
  {
   "cell_type": "code",
   "execution_count": null,
   "id": "dab66854",
   "metadata": {},
   "outputs": [],
   "source": [
    "__file__= os.path.abspath('') #Explicitly setting the folder path here\n",
    "dir(__file__)\n",
    "dir(__main__)\n",
    "print(__file__)"
   ]
  },
  {
   "cell_type": "code",
   "execution_count": null,
   "id": "70eb6516",
   "metadata": {},
   "outputs": [],
   "source": [
    "hasattr(__main__, '__file__') #running this to check if file being run interactively or via spark-submit ...\n",
    "# as __file__ will not be set in interactive mode, so we should get false, unless we do the above explicit setting"
   ]
  },
  {
   "cell_type": "code",
   "execution_count": null,
   "id": "00bc093b",
   "metadata": {},
   "outputs": [],
   "source": [
    "import os\n",
    "\n",
    "print(os.environ.keys())\n",
    "name = 'USERNAME' in os.environ.keys()#check if env variables has any parameter with name \"USERNAME\",if yes True\n",
    "print (name)"
   ]
  },
  {
   "cell_type": "code",
   "execution_count": null,
   "id": "df7a7b57",
   "metadata": {},
   "outputs": [],
   "source": [
    "from pyspark import SparkFiles\n",
    "SparkFiles"
   ]
  }
 ],
 "metadata": {
  "kernelspec": {
   "display_name": "Python 3 (ipykernel)",
   "language": "python",
   "name": "python3"
  },
  "language_info": {
   "codemirror_mode": {
    "name": "ipython",
    "version": 3
   },
   "file_extension": ".py",
   "mimetype": "text/x-python",
   "name": "python",
   "nbconvert_exporter": "python",
   "pygments_lexer": "ipython3",
   "version": "3.10.6"
  }
 },
 "nbformat": 4,
 "nbformat_minor": 5
}
